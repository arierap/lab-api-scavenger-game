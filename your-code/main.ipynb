{
 "cells": [
  {
   "cell_type": "markdown",
   "metadata": {},
   "source": [
    "# API Scavenger Game\n",
    "\n",
    "## Challenge 1: Fork Languages\n",
    "\n",
    "You will find out how many programming languages are used among all the forks created from the main lab repo of your bootcamp."
   ]
  },
  {
   "cell_type": "code",
   "execution_count": 1,
   "metadata": {},
   "outputs": [],
   "source": [
    "# import libraries here\n",
    "\n",
    "import json\n",
    "import requests\n",
    "import pandas as pd"
   ]
  },
  {
   "cell_type": "markdown",
   "metadata": {},
   "source": [
    "Assuming the main lab repo is ironhack-datalabs/madrid-oct-2018, you will:\n",
    "\n",
    "#### 1. Obtain the full list of forks created from the main lab repo via Github API."
   ]
  },
  {
   "cell_type": "markdown",
   "metadata": {},
   "source": [
    "To list forks, we can use the GET method. As explained in the GitHub API documentation, we need to make the request to: GET /repos/:owner/:repo/forks."
   ]
  },
  {
   "cell_type": "code",
   "execution_count": 2,
   "metadata": {},
   "outputs": [],
   "source": [
    "username = 'arierap'\n",
    "token = 'b4c90654bd3b3b1c08adee1fc2e74f0e8482afdc'\n",
    "url = 'https://api.github.com/repos/ironhack-datalabs/madrid-oct-2018/forks'"
   ]
  },
  {
   "cell_type": "code",
   "execution_count": 3,
   "metadata": {},
   "outputs": [],
   "source": [
    "# your code here\n",
    "\n",
    "response = requests.get(url, auth = (username, token))"
   ]
  },
  {
   "cell_type": "code",
   "execution_count": 4,
   "metadata": {},
   "outputs": [
    {
     "name": "stdout",
     "output_type": "stream",
     "text": [
      "response code <Response [200]>\n"
     ]
    }
   ],
   "source": [
    "print('response code', response)"
   ]
  },
  {
   "cell_type": "code",
   "execution_count": 5,
   "metadata": {
    "scrolled": false
   },
   "outputs": [
    {
     "data": {
      "text/plain": [
       "{'id': 220066216,\n",
       " 'node_id': 'MDEwOlJlcG9zaXRvcnkyMjAwNjYyMTY=',\n",
       " 'name': 'mad-oct-2018',\n",
       " 'full_name': 'ToniPons97/mad-oct-2018',\n",
       " 'private': False,\n",
       " 'owner': {'login': 'ToniPons97',\n",
       "  'id': 45130294,\n",
       "  'node_id': 'MDQ6VXNlcjQ1MTMwMjk0',\n",
       "  'avatar_url': 'https://avatars3.githubusercontent.com/u/45130294?v=4',\n",
       "  'gravatar_id': '',\n",
       "  'url': 'https://api.github.com/users/ToniPons97',\n",
       "  'html_url': 'https://github.com/ToniPons97',\n",
       "  'followers_url': 'https://api.github.com/users/ToniPons97/followers',\n",
       "  'following_url': 'https://api.github.com/users/ToniPons97/following{/other_user}',\n",
       "  'gists_url': 'https://api.github.com/users/ToniPons97/gists{/gist_id}',\n",
       "  'starred_url': 'https://api.github.com/users/ToniPons97/starred{/owner}{/repo}',\n",
       "  'subscriptions_url': 'https://api.github.com/users/ToniPons97/subscriptions',\n",
       "  'organizations_url': 'https://api.github.com/users/ToniPons97/orgs',\n",
       "  'repos_url': 'https://api.github.com/users/ToniPons97/repos',\n",
       "  'events_url': 'https://api.github.com/users/ToniPons97/events{/privacy}',\n",
       "  'received_events_url': 'https://api.github.com/users/ToniPons97/received_events',\n",
       "  'type': 'User',\n",
       "  'site_admin': False},\n",
       " 'html_url': 'https://github.com/ToniPons97/mad-oct-2018',\n",
       " 'description': 'Student labs for Ironhack data analytics bootcamp',\n",
       " 'fork': True,\n",
       " 'url': 'https://api.github.com/repos/ToniPons97/mad-oct-2018',\n",
       " 'forks_url': 'https://api.github.com/repos/ToniPons97/mad-oct-2018/forks',\n",
       " 'keys_url': 'https://api.github.com/repos/ToniPons97/mad-oct-2018/keys{/key_id}',\n",
       " 'collaborators_url': 'https://api.github.com/repos/ToniPons97/mad-oct-2018/collaborators{/collaborator}',\n",
       " 'teams_url': 'https://api.github.com/repos/ToniPons97/mad-oct-2018/teams',\n",
       " 'hooks_url': 'https://api.github.com/repos/ToniPons97/mad-oct-2018/hooks',\n",
       " 'issue_events_url': 'https://api.github.com/repos/ToniPons97/mad-oct-2018/issues/events{/number}',\n",
       " 'events_url': 'https://api.github.com/repos/ToniPons97/mad-oct-2018/events',\n",
       " 'assignees_url': 'https://api.github.com/repos/ToniPons97/mad-oct-2018/assignees{/user}',\n",
       " 'branches_url': 'https://api.github.com/repos/ToniPons97/mad-oct-2018/branches{/branch}',\n",
       " 'tags_url': 'https://api.github.com/repos/ToniPons97/mad-oct-2018/tags',\n",
       " 'blobs_url': 'https://api.github.com/repos/ToniPons97/mad-oct-2018/git/blobs{/sha}',\n",
       " 'git_tags_url': 'https://api.github.com/repos/ToniPons97/mad-oct-2018/git/tags{/sha}',\n",
       " 'git_refs_url': 'https://api.github.com/repos/ToniPons97/mad-oct-2018/git/refs{/sha}',\n",
       " 'trees_url': 'https://api.github.com/repos/ToniPons97/mad-oct-2018/git/trees{/sha}',\n",
       " 'statuses_url': 'https://api.github.com/repos/ToniPons97/mad-oct-2018/statuses/{sha}',\n",
       " 'languages_url': 'https://api.github.com/repos/ToniPons97/mad-oct-2018/languages',\n",
       " 'stargazers_url': 'https://api.github.com/repos/ToniPons97/mad-oct-2018/stargazers',\n",
       " 'contributors_url': 'https://api.github.com/repos/ToniPons97/mad-oct-2018/contributors',\n",
       " 'subscribers_url': 'https://api.github.com/repos/ToniPons97/mad-oct-2018/subscribers',\n",
       " 'subscription_url': 'https://api.github.com/repos/ToniPons97/mad-oct-2018/subscription',\n",
       " 'commits_url': 'https://api.github.com/repos/ToniPons97/mad-oct-2018/commits{/sha}',\n",
       " 'git_commits_url': 'https://api.github.com/repos/ToniPons97/mad-oct-2018/git/commits{/sha}',\n",
       " 'comments_url': 'https://api.github.com/repos/ToniPons97/mad-oct-2018/comments{/number}',\n",
       " 'issue_comment_url': 'https://api.github.com/repos/ToniPons97/mad-oct-2018/issues/comments{/number}',\n",
       " 'contents_url': 'https://api.github.com/repos/ToniPons97/mad-oct-2018/contents/{+path}',\n",
       " 'compare_url': 'https://api.github.com/repos/ToniPons97/mad-oct-2018/compare/{base}...{head}',\n",
       " 'merges_url': 'https://api.github.com/repos/ToniPons97/mad-oct-2018/merges',\n",
       " 'archive_url': 'https://api.github.com/repos/ToniPons97/mad-oct-2018/{archive_format}{/ref}',\n",
       " 'downloads_url': 'https://api.github.com/repos/ToniPons97/mad-oct-2018/downloads',\n",
       " 'issues_url': 'https://api.github.com/repos/ToniPons97/mad-oct-2018/issues{/number}',\n",
       " 'pulls_url': 'https://api.github.com/repos/ToniPons97/mad-oct-2018/pulls{/number}',\n",
       " 'milestones_url': 'https://api.github.com/repos/ToniPons97/mad-oct-2018/milestones{/number}',\n",
       " 'notifications_url': 'https://api.github.com/repos/ToniPons97/mad-oct-2018/notifications{?since,all,participating}',\n",
       " 'labels_url': 'https://api.github.com/repos/ToniPons97/mad-oct-2018/labels{/name}',\n",
       " 'releases_url': 'https://api.github.com/repos/ToniPons97/mad-oct-2018/releases{/id}',\n",
       " 'deployments_url': 'https://api.github.com/repos/ToniPons97/mad-oct-2018/deployments',\n",
       " 'created_at': '2019-11-06T18:44:51Z',\n",
       " 'updated_at': '2019-11-06T18:44:52Z',\n",
       " 'pushed_at': '2019-08-19T11:16:55Z',\n",
       " 'git_url': 'git://github.com/ToniPons97/mad-oct-2018.git',\n",
       " 'ssh_url': 'git@github.com:ToniPons97/mad-oct-2018.git',\n",
       " 'clone_url': 'https://github.com/ToniPons97/mad-oct-2018.git',\n",
       " 'svn_url': 'https://github.com/ToniPons97/mad-oct-2018',\n",
       " 'homepage': '',\n",
       " 'size': 116995,\n",
       " 'stargazers_count': 0,\n",
       " 'watchers_count': 0,\n",
       " 'language': None,\n",
       " 'has_issues': False,\n",
       " 'has_projects': True,\n",
       " 'has_downloads': True,\n",
       " 'has_wiki': True,\n",
       " 'has_pages': False,\n",
       " 'forks_count': 0,\n",
       " 'mirror_url': None,\n",
       " 'archived': False,\n",
       " 'disabled': False,\n",
       " 'open_issues_count': 0,\n",
       " 'license': {'key': 'unlicense',\n",
       "  'name': 'The Unlicense',\n",
       "  'spdx_id': 'Unlicense',\n",
       "  'url': 'https://api.github.com/licenses/unlicense',\n",
       "  'node_id': 'MDc6TGljZW5zZTE1'},\n",
       " 'forks': 0,\n",
       " 'open_issues': 0,\n",
       " 'watchers': 0,\n",
       " 'default_branch': 'master',\n",
       " 'permissions': {'admin': False, 'push': False, 'pull': True}}"
      ]
     },
     "execution_count": 5,
     "metadata": {},
     "output_type": "execute_result"
    }
   ],
   "source": [
    "# We want to get to the element Language\n",
    "\n",
    "# We first have a list\n",
    "# We then have a dictionary\n",
    "result = response.json()\n",
    "\n",
    "# Let´s check the sample of the first element of the list\n",
    "result [0]"
   ]
  },
  {
   "cell_type": "markdown",
   "metadata": {},
   "source": [
    "#### 2. Loop the JSON response to find out the language attribute of each fork. Use an array to store the language attributes of each fork.\n",
    "Hint: Each language should appear only once in your array.\n",
    "Print the language array. It should be something like: [\"Python\", \"Jupyter Notebook\", \"HTML\"]"
   ]
  },
  {
   "cell_type": "code",
   "execution_count": 6,
   "metadata": {},
   "outputs": [
    {
     "data": {
      "text/plain": [
       "['Python', 'Jupyter Notebook', None, 'HTML']"
      ]
     },
     "execution_count": 6,
     "metadata": {},
     "output_type": "execute_result"
    }
   ],
   "source": [
    "# We want to get to the element 'Language'\n",
    "# We have a list of dicts from which we want to get the value of the key : Language\n",
    "\n",
    "\n",
    "languages = []\n",
    "\n",
    "for i in result:\n",
    "    languages.append(i['language'])\n",
    "    \n",
    "# Put the uniques (create a set first) values on a list\n",
    "\n",
    "unique_languages = list(set(languages))\n",
    "\n",
    "unique_languages"
   ]
  },
  {
   "cell_type": "code",
   "execution_count": 7,
   "metadata": {},
   "outputs": [],
   "source": [
    "languages_df = pd.DataFrame(unique_languages)"
   ]
  },
  {
   "cell_type": "code",
   "execution_count": 8,
   "metadata": {},
   "outputs": [
    {
     "data": {
      "text/html": [
       "<div>\n",
       "<style scoped>\n",
       "    .dataframe tbody tr th:only-of-type {\n",
       "        vertical-align: middle;\n",
       "    }\n",
       "\n",
       "    .dataframe tbody tr th {\n",
       "        vertical-align: top;\n",
       "    }\n",
       "\n",
       "    .dataframe thead th {\n",
       "        text-align: right;\n",
       "    }\n",
       "</style>\n",
       "<table border=\"1\" class=\"dataframe\">\n",
       "  <thead>\n",
       "    <tr style=\"text-align: right;\">\n",
       "      <th></th>\n",
       "      <th>0</th>\n",
       "    </tr>\n",
       "  </thead>\n",
       "  <tbody>\n",
       "    <tr>\n",
       "      <th>0</th>\n",
       "      <td>Python</td>\n",
       "    </tr>\n",
       "    <tr>\n",
       "      <th>1</th>\n",
       "      <td>Jupyter Notebook</td>\n",
       "    </tr>\n",
       "    <tr>\n",
       "      <th>2</th>\n",
       "      <td>None</td>\n",
       "    </tr>\n",
       "    <tr>\n",
       "      <th>3</th>\n",
       "      <td>HTML</td>\n",
       "    </tr>\n",
       "  </tbody>\n",
       "</table>\n",
       "</div>"
      ],
      "text/plain": [
       "                  0\n",
       "0            Python\n",
       "1  Jupyter Notebook\n",
       "2              None\n",
       "3              HTML"
      ]
     },
     "execution_count": 8,
     "metadata": {},
     "output_type": "execute_result"
    }
   ],
   "source": [
    "languages_df"
   ]
  },
  {
   "cell_type": "code",
   "execution_count": 9,
   "metadata": {},
   "outputs": [
    {
     "name": "stdout",
     "output_type": "stream",
     "text": [
      "There are  4 languages in the bootcamp repos.\n"
     ]
    }
   ],
   "source": [
    "# How many programming languages are used among all the forks created from the main lab repo of \n",
    "# your bootcamp\n",
    "\n",
    "print(\"There are \", len(unique_languages), \"languages in the bootcamp repos.\")"
   ]
  },
  {
   "cell_type": "markdown",
   "metadata": {},
   "source": [
    "## Challenge 2: Count Commits\n",
    "Count how many commits were made in the month of october of 2018.\n",
    "#### 1. Obtain all the commits made in October 2018 via API, which is a JSON array that contains multiple commit objects."
   ]
  },
  {
   "cell_type": "code",
   "execution_count": 10,
   "metadata": {},
   "outputs": [],
   "source": [
    "username = 'arierap'\n",
    "token = 'b4c90654bd3b3b1c08adee1fc2e74f0e8482afdc'\n",
    "url = 'https://api.github.com/repos/ironhack-datalabs/madrid-oct-2018/commits'"
   ]
  },
  {
   "cell_type": "code",
   "execution_count": 11,
   "metadata": {},
   "outputs": [],
   "source": [
    "# your code here\n",
    "\n",
    "response_commit = requests.get(url, auth = (username, token))"
   ]
  },
  {
   "cell_type": "code",
   "execution_count": 12,
   "metadata": {},
   "outputs": [
    {
     "name": "stdout",
     "output_type": "stream",
     "text": [
      "response code <Response [200]>\n"
     ]
    }
   ],
   "source": [
    "print('response code', response_commit)"
   ]
  },
  {
   "cell_type": "code",
   "execution_count": 13,
   "metadata": {
    "scrolled": false
   },
   "outputs": [
    {
     "data": {
      "text/plain": [
       "{'sha': '1638e5506e6947b77bfe78761d345476ae80d017',\n",
       " 'node_id': 'MDY6Q29tbWl0MTUzNzIwODA0OjE2MzhlNTUwNmU2OTQ3Yjc3YmZlNzg3NjFkMzQ1NDc2YWU4MGQwMTc=',\n",
       " 'commit': {'author': {'name': 'Marc Pomar',\n",
       "   'email': 'marc@faable.com',\n",
       "   'date': '2019-08-19T11:11:36Z'},\n",
       "  'committer': {'name': 'Marc Pomar',\n",
       "   'email': 'marc@faable.com',\n",
       "   'date': '2019-08-19T11:11:36Z'},\n",
       "  'message': 'Cambiar los autores',\n",
       "  'tree': {'sha': '51812285dc70ac37103735ee7ed672befc582b5f',\n",
       "   'url': 'https://api.github.com/repos/ironhack-datalabs/mad-oct-2018/git/trees/51812285dc70ac37103735ee7ed672befc582b5f'},\n",
       "  'url': 'https://api.github.com/repos/ironhack-datalabs/mad-oct-2018/git/commits/1638e5506e6947b77bfe78761d345476ae80d017',\n",
       "  'comment_count': 0,\n",
       "  'verification': {'verified': False,\n",
       "   'reason': 'unsigned',\n",
       "   'signature': None,\n",
       "   'payload': None}},\n",
       " 'url': 'https://api.github.com/repos/ironhack-datalabs/mad-oct-2018/commits/1638e5506e6947b77bfe78761d345476ae80d017',\n",
       " 'html_url': 'https://github.com/ironhack-datalabs/mad-oct-2018/commit/1638e5506e6947b77bfe78761d345476ae80d017',\n",
       " 'comments_url': 'https://api.github.com/repos/ironhack-datalabs/mad-oct-2018/commits/1638e5506e6947b77bfe78761d345476ae80d017/comments',\n",
       " 'author': {'login': 'boyander',\n",
       "  'id': 568638,\n",
       "  'node_id': 'MDQ6VXNlcjU2ODYzOA==',\n",
       "  'avatar_url': 'https://avatars1.githubusercontent.com/u/568638?v=4',\n",
       "  'gravatar_id': '',\n",
       "  'url': 'https://api.github.com/users/boyander',\n",
       "  'html_url': 'https://github.com/boyander',\n",
       "  'followers_url': 'https://api.github.com/users/boyander/followers',\n",
       "  'following_url': 'https://api.github.com/users/boyander/following{/other_user}',\n",
       "  'gists_url': 'https://api.github.com/users/boyander/gists{/gist_id}',\n",
       "  'starred_url': 'https://api.github.com/users/boyander/starred{/owner}{/repo}',\n",
       "  'subscriptions_url': 'https://api.github.com/users/boyander/subscriptions',\n",
       "  'organizations_url': 'https://api.github.com/users/boyander/orgs',\n",
       "  'repos_url': 'https://api.github.com/users/boyander/repos',\n",
       "  'events_url': 'https://api.github.com/users/boyander/events{/privacy}',\n",
       "  'received_events_url': 'https://api.github.com/users/boyander/received_events',\n",
       "  'type': 'User',\n",
       "  'site_admin': False},\n",
       " 'committer': {'login': 'boyander',\n",
       "  'id': 568638,\n",
       "  'node_id': 'MDQ6VXNlcjU2ODYzOA==',\n",
       "  'avatar_url': 'https://avatars1.githubusercontent.com/u/568638?v=4',\n",
       "  'gravatar_id': '',\n",
       "  'url': 'https://api.github.com/users/boyander',\n",
       "  'html_url': 'https://github.com/boyander',\n",
       "  'followers_url': 'https://api.github.com/users/boyander/followers',\n",
       "  'following_url': 'https://api.github.com/users/boyander/following{/other_user}',\n",
       "  'gists_url': 'https://api.github.com/users/boyander/gists{/gist_id}',\n",
       "  'starred_url': 'https://api.github.com/users/boyander/starred{/owner}{/repo}',\n",
       "  'subscriptions_url': 'https://api.github.com/users/boyander/subscriptions',\n",
       "  'organizations_url': 'https://api.github.com/users/boyander/orgs',\n",
       "  'repos_url': 'https://api.github.com/users/boyander/repos',\n",
       "  'events_url': 'https://api.github.com/users/boyander/events{/privacy}',\n",
       "  'received_events_url': 'https://api.github.com/users/boyander/received_events',\n",
       "  'type': 'User',\n",
       "  'site_admin': False},\n",
       " 'parents': [{'sha': 'f332b5e6fcea965dc80f62220d7ee1457b04b90d',\n",
       "   'url': 'https://api.github.com/repos/ironhack-datalabs/mad-oct-2018/commits/f332b5e6fcea965dc80f62220d7ee1457b04b90d',\n",
       "   'html_url': 'https://github.com/ironhack-datalabs/mad-oct-2018/commit/f332b5e6fcea965dc80f62220d7ee1457b04b90d'}]}"
      ]
     },
     "execution_count": 13,
     "metadata": {},
     "output_type": "execute_result"
    }
   ],
   "source": [
    "# We want to get to the count of the element commits\n",
    "\n",
    "# We first have a list of dictionaries\n",
    "# We then have a dictionary\n",
    "result = response_commit.json()\n",
    "\n",
    "# Let´s check the sample of the first element of the list\n",
    "result[0]"
   ]
  },
  {
   "cell_type": "code",
   "execution_count": 14,
   "metadata": {},
   "outputs": [
    {
     "data": {
      "text/plain": [
       "30"
      ]
     },
     "execution_count": 14,
     "metadata": {},
     "output_type": "execute_result"
    }
   ],
   "source": [
    "len(result)"
   ]
  },
  {
   "cell_type": "code",
   "execution_count": 15,
   "metadata": {},
   "outputs": [],
   "source": [
    "list_of_commits = []\n",
    "\n",
    "for i in range(30):\n",
    "    list_of_commits.append(result[i]['commit'][\"author\"])"
   ]
  },
  {
   "cell_type": "code",
   "execution_count": 16,
   "metadata": {},
   "outputs": [],
   "source": [
    "# Another possible way of extracting the same output would be the below. More similar to our other approach\n",
    "\n",
    "list_of_commits_2 = []\n",
    "for i in result:\n",
    "    list_of_commits_2.append(i ['commit']['author'])\n",
    "    "
   ]
  },
  {
   "cell_type": "code",
   "execution_count": 17,
   "metadata": {},
   "outputs": [
    {
     "data": {
      "text/plain": [
       "True"
      ]
     },
     "execution_count": 17,
     "metadata": {},
     "output_type": "execute_result"
    }
   ],
   "source": [
    "list_of_commits == list_of_commits_2"
   ]
  },
  {
   "cell_type": "code",
   "execution_count": 18,
   "metadata": {},
   "outputs": [],
   "source": [
    "commiters_df = pd.DataFrame(list_of_commits)"
   ]
  },
  {
   "cell_type": "code",
   "execution_count": 19,
   "metadata": {},
   "outputs": [
    {
     "data": {
      "text/html": [
       "<div>\n",
       "<style scoped>\n",
       "    .dataframe tbody tr th:only-of-type {\n",
       "        vertical-align: middle;\n",
       "    }\n",
       "\n",
       "    .dataframe tbody tr th {\n",
       "        vertical-align: top;\n",
       "    }\n",
       "\n",
       "    .dataframe thead th {\n",
       "        text-align: right;\n",
       "    }\n",
       "</style>\n",
       "<table border=\"1\" class=\"dataframe\">\n",
       "  <thead>\n",
       "    <tr style=\"text-align: right;\">\n",
       "      <th></th>\n",
       "      <th>name</th>\n",
       "      <th>email</th>\n",
       "      <th>date</th>\n",
       "    </tr>\n",
       "  </thead>\n",
       "  <tbody>\n",
       "    <tr>\n",
       "      <th>17</th>\n",
       "      <td>Tony Ojeda</td>\n",
       "      <td>tojeda@districtdatalabs.com</td>\n",
       "      <td>2019-01-07T20:24:29Z</td>\n",
       "    </tr>\n",
       "    <tr>\n",
       "      <th>18</th>\n",
       "      <td>Tony Ojeda</td>\n",
       "      <td>tojeda@districtdatalabs.com</td>\n",
       "      <td>2019-01-07T20:20:17Z</td>\n",
       "    </tr>\n",
       "    <tr>\n",
       "      <th>19</th>\n",
       "      <td>Tony Ojeda</td>\n",
       "      <td>tojeda@districtdatalabs.com</td>\n",
       "      <td>2019-01-07T17:49:55Z</td>\n",
       "    </tr>\n",
       "    <tr>\n",
       "      <th>20</th>\n",
       "      <td>Tony Ojeda</td>\n",
       "      <td>tojeda@districtdatalabs.com</td>\n",
       "      <td>2019-01-07T17:47:26Z</td>\n",
       "    </tr>\n",
       "    <tr>\n",
       "      <th>21</th>\n",
       "      <td>Zhou Zhou</td>\n",
       "      <td>zhou.eye8@gmail.com</td>\n",
       "      <td>2019-01-07T16:32:06Z</td>\n",
       "    </tr>\n",
       "    <tr>\n",
       "      <th>22</th>\n",
       "      <td>Zhou Zhou</td>\n",
       "      <td>zhou.eye8@gmail.com</td>\n",
       "      <td>2019-01-07T16:17:21Z</td>\n",
       "    </tr>\n",
       "    <tr>\n",
       "      <th>23</th>\n",
       "      <td>Tony Ojeda</td>\n",
       "      <td>tojeda@districtdatalabs.com</td>\n",
       "      <td>2019-01-07T15:15:49Z</td>\n",
       "    </tr>\n",
       "    <tr>\n",
       "      <th>24</th>\n",
       "      <td>Zhou Zhou</td>\n",
       "      <td>zhou.eye8@gmail.com</td>\n",
       "      <td>2019-01-07T05:11:44Z</td>\n",
       "    </tr>\n",
       "  </tbody>\n",
       "</table>\n",
       "</div>"
      ],
      "text/plain": [
       "          name                        email                  date\n",
       "17  Tony Ojeda  tojeda@districtdatalabs.com  2019-01-07T20:24:29Z\n",
       "18  Tony Ojeda  tojeda@districtdatalabs.com  2019-01-07T20:20:17Z\n",
       "19  Tony Ojeda  tojeda@districtdatalabs.com  2019-01-07T17:49:55Z\n",
       "20  Tony Ojeda  tojeda@districtdatalabs.com  2019-01-07T17:47:26Z\n",
       "21   Zhou Zhou          zhou.eye8@gmail.com  2019-01-07T16:32:06Z\n",
       "22   Zhou Zhou          zhou.eye8@gmail.com  2019-01-07T16:17:21Z\n",
       "23  Tony Ojeda  tojeda@districtdatalabs.com  2019-01-07T15:15:49Z\n",
       "24   Zhou Zhou          zhou.eye8@gmail.com  2019-01-07T05:11:44Z"
      ]
     },
     "execution_count": 19,
     "metadata": {},
     "output_type": "execute_result"
    }
   ],
   "source": [
    "# Let´s narrow the data frame to the commits which happened within the month of October, 2018\n",
    "\n",
    "# 1. Filter by a value contained within the date column\n",
    "# *** Given I could not find any data within the date range Oct,2018 I decided to filter with another date\n",
    "# value to showcase the functionality of filtering by column value. Dates containing '2019-01-07'\n",
    "\n",
    "filtered_commiters = commiters_df[commiters_df['date'].str.contains('2019-01-07')]\n",
    "filtered_commiters"
   ]
  },
  {
   "cell_type": "markdown",
   "metadata": {},
   "source": [
    "#### 2. Count how many commit objects are contained in the array."
   ]
  },
  {
   "cell_type": "code",
   "execution_count": 20,
   "metadata": {},
   "outputs": [
    {
     "data": {
      "text/plain": [
       "8"
      ]
     },
     "execution_count": 20,
     "metadata": {},
     "output_type": "execute_result"
    }
   ],
   "source": [
    "len(filtered_commiters)"
   ]
  },
  {
   "cell_type": "markdown",
   "metadata": {},
   "source": [
    "## Challenge 3: Hidden Cold Joke\n",
    "\n",
    "Using Python, call Github API to find out the cold joke contained in the 24 secret files in the following repo:\n",
    "\n",
    "https://github.com/ironhack-datalabs/scavenger\n",
    "\n",
    "The filenames of the secret files contain .scavengerhunt and they are scattered in different directories of this repo. The secret files are named from .0001.scavengerhunt to .0024.scavengerhunt. They are scattered randomly throughout this repo. You need to search for these files by calling the Github API, not searching the local files on your computer.\n",
    "\n",
    "#### 1. Find the secret files."
   ]
  },
  {
   "cell_type": "code",
   "execution_count": 77,
   "metadata": {},
   "outputs": [],
   "source": [
    "# your code here\n",
    "\n",
    "username = 'arierap'\n",
    "token = 'b4c90654bd3b3b1c08adee1fc2e74f0e8482afdc'\n",
    "url = 'https://api.github.com/repos/ironhack-datalabs/scavenger/contents'"
   ]
  },
  {
   "cell_type": "code",
   "execution_count": 78,
   "metadata": {},
   "outputs": [
    {
     "name": "stdout",
     "output_type": "stream",
     "text": [
      "response code <Response [200]>\n"
     ]
    }
   ],
   "source": [
    "response_3 = requests.get(url, auth=(username, token))\n",
    "print('response code', response_3)"
   ]
  },
  {
   "cell_type": "code",
   "execution_count": 79,
   "metadata": {},
   "outputs": [
    {
     "data": {
      "text/plain": [
       "{'name': '15024',\n",
       " 'path': '15024',\n",
       " 'sha': '2945e51c87ad5da893c954afcf092f06343bbb7d',\n",
       " 'size': 0,\n",
       " 'url': 'https://api.github.com/repos/ironhack-datalabs/scavenger/contents/15024?ref=master',\n",
       " 'html_url': 'https://github.com/ironhack-datalabs/scavenger/tree/master/15024',\n",
       " 'git_url': 'https://api.github.com/repos/ironhack-datalabs/scavenger/git/trees/2945e51c87ad5da893c954afcf092f06343bbb7d',\n",
       " 'download_url': None,\n",
       " 'type': 'dir',\n",
       " '_links': {'self': 'https://api.github.com/repos/ironhack-datalabs/scavenger/contents/15024?ref=master',\n",
       "  'git': 'https://api.github.com/repos/ironhack-datalabs/scavenger/git/trees/2945e51c87ad5da893c954afcf092f06343bbb7d',\n",
       "  'html': 'https://github.com/ironhack-datalabs/scavenger/tree/master/15024'}}"
      ]
     },
     "execution_count": 79,
     "metadata": {},
     "output_type": "execute_result"
    }
   ],
   "source": [
    "# We want to get to the element within this link\n",
    "response_json = response_3.json()\n",
    "# We first have a list\n",
    "# We then have a dictionary\n",
    "\n",
    "# Let´s check the sample of the first element of the list\n",
    "response_json[1]"
   ]
  },
  {
   "cell_type": "code",
   "execution_count": 80,
   "metadata": {},
   "outputs": [
    {
     "data": {
      "text/plain": [
       "['15024',\n",
       " '15534',\n",
       " '17020',\n",
       " '30351',\n",
       " '40303',\n",
       " '44639',\n",
       " '45525',\n",
       " '47222',\n",
       " '47830',\n",
       " '49418',\n",
       " '50896',\n",
       " '55417',\n",
       " '55685',\n",
       " '60224',\n",
       " '64880',\n",
       " '66032',\n",
       " '68848',\n",
       " '70751',\n",
       " '70985',\n",
       " '88596',\n",
       " '89046',\n",
       " '89338',\n",
       " '91701',\n",
       " '97881',\n",
       " '98750']"
      ]
     },
     "execution_count": 80,
     "metadata": {},
     "output_type": "execute_result"
    }
   ],
   "source": [
    "folders_list = []\n",
    "for i in response_json[1:]:\n",
    "    folders_list.append(i[\"path\"])\n",
    "    \n",
    "folders_list"
   ]
  },
  {
   "cell_type": "code",
   "execution_count": 81,
   "metadata": {},
   "outputs": [],
   "source": [
    "username = 'arierap'\n",
    "token = 'b4c90654bd3b3b1c08adee1fc2e74f0e8482afdc'\n",
    "content_json_list = []\n",
    "\n",
    "for folder in folders_list:\n",
    "    url = f'https://api.github.com/repos/ironhack-datalabs/scavenger/contents/{folder}'\n",
    "    response_4 = requests.get(url, auth=(username, token))\n",
    "    response_json = response_4.json()\n",
    "    content_json_list.append(response_json)"
   ]
  },
  {
   "cell_type": "code",
   "execution_count": 82,
   "metadata": {},
   "outputs": [
    {
     "data": {
      "text/plain": [
       "[{'name': '.0006.scavengerhunt',\n",
       "  'path': '15024/.0006.scavengerhunt',\n",
       "  'sha': '1c9064284a24b3486015eafdb391b141c27ada2b',\n",
       "  'size': 3,\n",
       "  'url': 'https://api.github.com/repos/ironhack-datalabs/scavenger/contents/15024/.0006.scavengerhunt?ref=master',\n",
       "  'html_url': 'https://github.com/ironhack-datalabs/scavenger/blob/master/15024/.0006.scavengerhunt',\n",
       "  'git_url': 'https://api.github.com/repos/ironhack-datalabs/scavenger/git/blobs/1c9064284a24b3486015eafdb391b141c27ada2b',\n",
       "  'download_url': 'https://raw.githubusercontent.com/ironhack-datalabs/scavenger/master/15024/.0006.scavengerhunt',\n",
       "  'type': 'file',\n",
       "  '_links': {'self': 'https://api.github.com/repos/ironhack-datalabs/scavenger/contents/15024/.0006.scavengerhunt?ref=master',\n",
       "   'git': 'https://api.github.com/repos/ironhack-datalabs/scavenger/git/blobs/1c9064284a24b3486015eafdb391b141c27ada2b',\n",
       "   'html': 'https://github.com/ironhack-datalabs/scavenger/blob/master/15024/.0006.scavengerhunt'}},\n",
       " {'name': '40',\n",
       "  'path': '15024/40',\n",
       "  'sha': 'e69de29bb2d1d6434b8b29ae775ad8c2e48c5391',\n",
       "  'size': 0,\n",
       "  'url': 'https://api.github.com/repos/ironhack-datalabs/scavenger/contents/15024/40?ref=master',\n",
       "  'html_url': 'https://github.com/ironhack-datalabs/scavenger/blob/master/15024/40',\n",
       "  'git_url': 'https://api.github.com/repos/ironhack-datalabs/scavenger/git/blobs/e69de29bb2d1d6434b8b29ae775ad8c2e48c5391',\n",
       "  'download_url': 'https://raw.githubusercontent.com/ironhack-datalabs/scavenger/master/15024/40',\n",
       "  'type': 'file',\n",
       "  '_links': {'self': 'https://api.github.com/repos/ironhack-datalabs/scavenger/contents/15024/40?ref=master',\n",
       "   'git': 'https://api.github.com/repos/ironhack-datalabs/scavenger/git/blobs/e69de29bb2d1d6434b8b29ae775ad8c2e48c5391',\n",
       "   'html': 'https://github.com/ironhack-datalabs/scavenger/blob/master/15024/40'}},\n",
       " {'name': '74',\n",
       "  'path': '15024/74',\n",
       "  'sha': 'e69de29bb2d1d6434b8b29ae775ad8c2e48c5391',\n",
       "  'size': 0,\n",
       "  'url': 'https://api.github.com/repos/ironhack-datalabs/scavenger/contents/15024/74?ref=master',\n",
       "  'html_url': 'https://github.com/ironhack-datalabs/scavenger/blob/master/15024/74',\n",
       "  'git_url': 'https://api.github.com/repos/ironhack-datalabs/scavenger/git/blobs/e69de29bb2d1d6434b8b29ae775ad8c2e48c5391',\n",
       "  'download_url': 'https://raw.githubusercontent.com/ironhack-datalabs/scavenger/master/15024/74',\n",
       "  'type': 'file',\n",
       "  '_links': {'self': 'https://api.github.com/repos/ironhack-datalabs/scavenger/contents/15024/74?ref=master',\n",
       "   'git': 'https://api.github.com/repos/ironhack-datalabs/scavenger/git/blobs/e69de29bb2d1d6434b8b29ae775ad8c2e48c5391',\n",
       "   'html': 'https://github.com/ironhack-datalabs/scavenger/blob/master/15024/74'}},\n",
       " {'name': '99',\n",
       "  'path': '15024/99',\n",
       "  'sha': 'e69de29bb2d1d6434b8b29ae775ad8c2e48c5391',\n",
       "  'size': 0,\n",
       "  'url': 'https://api.github.com/repos/ironhack-datalabs/scavenger/contents/15024/99?ref=master',\n",
       "  'html_url': 'https://github.com/ironhack-datalabs/scavenger/blob/master/15024/99',\n",
       "  'git_url': 'https://api.github.com/repos/ironhack-datalabs/scavenger/git/blobs/e69de29bb2d1d6434b8b29ae775ad8c2e48c5391',\n",
       "  'download_url': 'https://raw.githubusercontent.com/ironhack-datalabs/scavenger/master/15024/99',\n",
       "  'type': 'file',\n",
       "  '_links': {'self': 'https://api.github.com/repos/ironhack-datalabs/scavenger/contents/15024/99?ref=master',\n",
       "   'git': 'https://api.github.com/repos/ironhack-datalabs/scavenger/git/blobs/e69de29bb2d1d6434b8b29ae775ad8c2e48c5391',\n",
       "   'html': 'https://github.com/ironhack-datalabs/scavenger/blob/master/15024/99'}}]"
      ]
     },
     "execution_count": 82,
     "metadata": {},
     "output_type": "execute_result"
    }
   ],
   "source": [
    "content_json_list[0]"
   ]
  },
  {
   "cell_type": "code",
   "execution_count": 83,
   "metadata": {},
   "outputs": [
    {
     "data": {
      "text/plain": [
       "'.0006.scavengerhunt'"
      ]
     },
     "execution_count": 83,
     "metadata": {},
     "output_type": "execute_result"
    }
   ],
   "source": [
    "content_json_list[0][0][\"name\"]"
   ]
  },
  {
   "cell_type": "code",
   "execution_count": 84,
   "metadata": {},
   "outputs": [
    {
     "data": {
      "text/plain": [
       "'15024/.0006.scavengerhunt'"
      ]
     },
     "execution_count": 84,
     "metadata": {},
     "output_type": "execute_result"
    }
   ],
   "source": [
    "content_json_list[0][0][\"path\"]"
   ]
  },
  {
   "cell_type": "code",
   "execution_count": 85,
   "metadata": {},
   "outputs": [
    {
     "data": {
      "text/plain": [
       "{'.0006.scavengerhunt': '15024/.0006.scavengerhunt',\n",
       " '.0008.scavengerhunt': '15534/.0008.scavengerhunt',\n",
       " '.0012.scavengerhunt': '15534/.0012.scavengerhunt',\n",
       " '.0007.scavengerhunt': '17020/.0007.scavengerhunt',\n",
       " '.0021.scavengerhunt': '30351/.0021.scavengerhunt',\n",
       " '.0022.scavengerhunt': '40303/.0022.scavengerhunt',\n",
       " '.0005.scavengerhunt': '44639/.0005.scavengerhunt',\n",
       " '.0018.scavengerhunt': '45525/.0018.scavengerhunt',\n",
       " '.0016.scavengerhunt': '47222/.0016.scavengerhunt',\n",
       " '.0024.scavengerhunt': '47222/.0024.scavengerhunt',\n",
       " '.0010.scavengerhunt': '47830/.0010.scavengerhunt',\n",
       " '.0014.scavengerhunt': '49418/.0014.scavengerhunt',\n",
       " '.0011.scavengerhunt': '50896/.0011.scavengerhunt',\n",
       " '.0023.scavengerhunt': '55417/.0023.scavengerhunt',\n",
       " '.0020.scavengerhunt': '55685/.0020.scavengerhunt',\n",
       " '.0003.scavengerhunt': '60224/.0003.scavengerhunt',\n",
       " '.0004.scavengerhunt': '68848/.0004.scavengerhunt',\n",
       " '.0019.scavengerhunt': '70751/.0019.scavengerhunt',\n",
       " '.0017.scavengerhunt': '70985/.0017.scavengerhunt',\n",
       " '.0002.scavengerhunt': '88596/.0002.scavengerhunt',\n",
       " '.0013.scavengerhunt': '89338/.0013.scavengerhunt',\n",
       " '.0015.scavengerhunt': '91701/.0015.scavengerhunt',\n",
       " '.0009.scavengerhunt': '97881/.0009.scavengerhunt',\n",
       " '.0001.scavengerhunt': '98750/.0001.scavengerhunt'}"
      ]
     },
     "execution_count": 85,
     "metadata": {},
     "output_type": "execute_result"
    }
   ],
   "source": [
    "paths_dict = {}\n",
    "\n",
    "for folder in content_json_list:\n",
    "    for file in folder:\n",
    "        if file[\"name\"].endswith(\"scavengerhunt\"):\n",
    "            paths_dict[file[\"name\"]] = file[\"path\"]\n",
    "            \n",
    "paths_dict\n"
   ]
  },
  {
   "cell_type": "markdown",
   "metadata": {},
   "source": [
    "#### 2.  Sort the filenames ascendingly.m"
   ]
  },
  {
   "cell_type": "code",
   "execution_count": 86,
   "metadata": {},
   "outputs": [
    {
     "data": {
      "text/plain": [
       "['98750/.0001.scavengerhunt',\n",
       " '88596/.0002.scavengerhunt',\n",
       " '60224/.0003.scavengerhunt',\n",
       " '68848/.0004.scavengerhunt',\n",
       " '44639/.0005.scavengerhunt',\n",
       " '15024/.0006.scavengerhunt',\n",
       " '17020/.0007.scavengerhunt',\n",
       " '15534/.0008.scavengerhunt',\n",
       " '97881/.0009.scavengerhunt',\n",
       " '47830/.0010.scavengerhunt',\n",
       " '50896/.0011.scavengerhunt',\n",
       " '15534/.0012.scavengerhunt',\n",
       " '89338/.0013.scavengerhunt',\n",
       " '49418/.0014.scavengerhunt',\n",
       " '91701/.0015.scavengerhunt',\n",
       " '47222/.0016.scavengerhunt',\n",
       " '70985/.0017.scavengerhunt',\n",
       " '45525/.0018.scavengerhunt',\n",
       " '70751/.0019.scavengerhunt',\n",
       " '55685/.0020.scavengerhunt',\n",
       " '30351/.0021.scavengerhunt',\n",
       " '40303/.0022.scavengerhunt',\n",
       " '55417/.0023.scavengerhunt',\n",
       " '47222/.0024.scavengerhunt']"
      ]
     },
     "execution_count": 86,
     "metadata": {},
     "output_type": "execute_result"
    }
   ],
   "source": [
    "paths_dict_sorted = {}\n",
    "\n",
    "for i in sorted(paths_dict):\n",
    "    paths_dict_sorted[i] = paths_dict[i]\n",
    "    \n",
    "sorted_paths_list = list(paths_dict_sorted.values())\n",
    "sorted_paths_list"
   ]
  },
  {
   "cell_type": "markdown",
   "metadata": {},
   "source": [
    "#### 3. Read the content of each secret files into an array of strings.\n",
    "Since the response is encoded, you will need to send the following information in the header of your request:\n",
    "````python\n",
    "headers = {'Accept': 'application/vnd.github.v3.raw'}\n",
    "````"
   ]
  },
  {
   "cell_type": "code",
   "execution_count": 89,
   "metadata": {},
   "outputs": [
    {
     "data": {
      "text/plain": [
       "['In\\n',\n",
       " 'data\\n',\n",
       " 'science,\\n',\n",
       " '80\\n',\n",
       " 'percent\\n',\n",
       " 'of\\n',\n",
       " 'time\\n',\n",
       " 'spent\\n',\n",
       " 'is\\n',\n",
       " 'preparing\\n',\n",
       " 'data,\\n',\n",
       " '20\\n',\n",
       " 'percent\\n',\n",
       " 'of\\n',\n",
       " 'time\\n',\n",
       " 'is\\n',\n",
       " 'spent\\n',\n",
       " 'complaining\\n',\n",
       " 'about\\n',\n",
       " 'the\\n',\n",
       " 'need\\n',\n",
       " 'to\\n',\n",
       " 'prepare\\n',\n",
       " 'data.\\n']"
      ]
     },
     "execution_count": 89,
     "metadata": {},
     "output_type": "execute_result"
    }
   ],
   "source": [
    "username = 'arierap'\n",
    "token = 'b4c90654bd3b3b1c08adee1fc2e74f0e8482afdc'\n",
    "\n",
    "headers = {'Accept': 'application/vnd.github.v3.raw'}\n",
    "joke_content = []\n",
    "\n",
    "for path in sorted_paths_list:\n",
    "    url = f'https://api.github.com/repos/ironhack-datalabs/scavenger/contents/{path}'\n",
    "    response_5 = requests.get(url, auth=(username, token), headers=headers)\n",
    "    joke_content.append(response_5.text)\n",
    "    \n",
    "joke_content"
   ]
  },
  {
   "cell_type": "markdown",
   "metadata": {},
   "source": [
    "#### 4. Concatenate the strings in the array separating each two with a whitespace."
   ]
  },
  {
   "cell_type": "code",
   "execution_count": 99,
   "metadata": {
    "scrolled": true
   },
   "outputs": [],
   "source": [
    "stripped_joke= []\n",
    "\n",
    "for i in joke_content:\n",
    "    stripped = i.replace(\"\\n\", \"\")\n",
    "    stripped_joke.append(stripped)\n",
    "    "
   ]
  },
  {
   "cell_type": "markdown",
   "metadata": {},
   "source": [
    "#### 5. Print out the joke."
   ]
  },
  {
   "cell_type": "code",
   "execution_count": 100,
   "metadata": {},
   "outputs": [
    {
     "data": {
      "text/plain": [
       "'In data science, 80 percent of time spent is preparing data, 20 percent of time is spent complaining about the need to prepare data.'"
      ]
     },
     "execution_count": 100,
     "metadata": {},
     "output_type": "execute_result"
    }
   ],
   "source": [
    "#for loop specially used for lists, iterating between each element. calculation,list\n",
    "the_joke = \" \".join(map(str, stripped_joke))\n",
    "\n",
    "the_joke"
   ]
  },
  {
   "cell_type": "markdown",
   "metadata": {},
   "source": [
    "### NOTES TO MYSELF"
   ]
  },
  {
   "cell_type": "code",
   "execution_count": 98,
   "metadata": {},
   "outputs": [
    {
     "name": "stdout",
     "output_type": "stream",
     "text": [
      "this is the values of 10\n",
      "this is the values of {A}\n"
     ]
    }
   ],
   "source": [
    "# Note to self. We add f' so that Python understands that you are calling an element {}, rather than as text\n",
    "\n",
    "A = 10\n",
    "print(f\"this is the values of {A}\")\n",
    "\n",
    "print(\"this is the values of {A}\")"
   ]
  }
 ],
 "metadata": {
  "kernelspec": {
   "display_name": "Python 3",
   "language": "python",
   "name": "python3"
  },
  "language_info": {
   "codemirror_mode": {
    "name": "ipython",
    "version": 3
   },
   "file_extension": ".py",
   "mimetype": "text/x-python",
   "name": "python",
   "nbconvert_exporter": "python",
   "pygments_lexer": "ipython3",
   "version": "3.8.1"
  }
 },
 "nbformat": 4,
 "nbformat_minor": 2
}
